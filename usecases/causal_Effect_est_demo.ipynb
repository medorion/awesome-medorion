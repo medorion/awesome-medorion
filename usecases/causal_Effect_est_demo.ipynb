{
 "cells": [
  {
   "cell_type": "code",
   "execution_count": null,
   "metadata": {},
   "outputs": [],
   "source": [
    "import sys\n",
    "sys.path.append('~/MedorionDsTools')\n",
    "\n",
    "# import file1"
   ]
  },
  {
   "cell_type": "code",
   "execution_count": 132,
   "metadata": {},
   "outputs": [],
   "source": [
    "import MedorionDsTools.BigqueryUtils\n",
    "import MedorionDsTools.Feateng\n",
    "import MedorionDsTools.zips_data_call\n",
    "import MedorionDsTools.Preprocessing\n",
    "import MedorionDsTools.Modeling\n",
    "import MedorionDsTools.Explain\n",
    "import MedorionDsTools.Visual\n",
    "import MedorionDsTools.CustumersData\n",
    "import MedorionDsTools.ActionDrivenInsight\n",
    "from pandas import read_parquet,DataFrame\n",
    "import importlib\n",
    "import base64\n",
    "from IPython.display import Image, display, HTML\n",
    "import matplotlib.pyplot as plt\n",
    "from pandas import concat, Series, DataFrame\n",
    "import numpy as np\n",
    "from sklearn.tree import export_graphviz\n",
    "import graphviz\n",
    "from sklearn.tree import DecisionTreeClassifier\n",
    "from sklearn.multioutput import MultiOutputClassifier\n",
    "\n",
    "\n",
    "\n",
    "\n",
    "\n",
    "\n",
    "\n",
    "\n",
    "\n",
    "importlib.reload(MedorionDsTools.Feateng)\n",
    "importlib.reload(MedorionDsTools.BigqueryUtils)\n",
    "importlib.reload(MedorionDsTools.zips_data_call)\n",
    "importlib.reload(MedorionDsTools.Preprocessing)\n",
    "importlib.reload(MedorionDsTools.Modeling)\n",
    "importlib.reload(MedorionDsTools.Explain)\n",
    "importlib.reload(MedorionDsTools.Visual)\n",
    "importlib.reload(MedorionDsTools.CustumersData)\n",
    "importlib.reload(MedorionDsTools.ActionDrivenInsight)\n",
    "\n",
    "\n",
    "\n",
    "def mm(graph, width=200, height=300):\n",
    "  graphbytes = graph.encode(\"ascii\")\n",
    "  base64_bytes = base64.b64encode(graphbytes)\n",
    "  base64_string = base64_bytes.decode(\"ascii\")\n",
    "  display(\n",
    "        HTML(\n",
    "            f'<div style=\"text-align:center\"><img src=\"https://mermaid.ink/img/{base64_string}\" width=\"{width}\" height=\"{height}\"></div>'\n",
    "        )\n",
    "  )\n"
   ]
  },
  {
   "cell_type": "markdown",
   "metadata": {},
   "source": [
    "\n",
    "\n",
    "## Introduction to Uplift Modeling\n",
    "\n",
    "Our goal is to measure the causal impact of a specific intervention (such as providing a transportation subsidy) on a target outcome of interest (such as adhering to a prescribed statin medication). To do this, we need to estimate the uplift, which is the difference in the outcome between the unit $i$ with treatment versus without. However, not all units are equally affected by the intervention. Some may benefit more, some may benefit less, and some may even be harmed by it. Therefore, we need to identify the heterogeneous treatment effects, which capture how the intervention affects different subgroups of units in different ways.\n",
    "\n",
    "\n",
    "### confounding variables and backdoor\n",
    "\n",
    "\n",
    "A confounding variable is a variable that affects both the independent variable and the dependent variable in a causal study, and thus creates a spurious association between them. A confounding variable opens a backdoor path from the independent variable to the dependent variable, which is a non-causal path that allows information to flow between them. This backdoor path confounds or biases the estimation of the causal effect of the independent variable on the dependent variable.\n",
    "\n"
   ]
  },
  {
   "cell_type": "code",
   "execution_count": 126,
   "metadata": {},
   "outputs": [
    {
     "data": {
      "text/html": [
       "<div style=\"text-align:center\"><img src=\"https://mermaid.ink/img/CmZsb3djaGFydCBURAogICBNZW1bIk1lbWJlciBEYXRhKFgpIl0gLS0+IFRyZWF0bWVudFsiVHJlYXRtZW50KFQpIl0gIAogICBUcmVhdG1lbnQgLS0+IG91dGNvbWVbIm91dGNvbWUoWSkiXQogICBNZW0gLS0+IG91dGNvbWUKCg==\" width=\"200\" height=\"300\"></div>"
      ],
      "text/plain": [
       "<IPython.core.display.HTML object>"
      ]
     },
     "metadata": {},
     "output_type": "display_data"
    }
   ],
   "source": [
    "\n",
    "mm(\"\"\"\n",
    "flowchart TD\n",
    "   Mem[\"Member Data(X)\"] --> Treatment[\"Treatment(T)\"]  \n",
    "   Treatment --> outcome[\"outcome(Y)\"]\n",
    "   Mem --> outcome\n",
    "\n",
    "\"\"\")"
   ]
  },
  {
   "cell_type": "markdown",
   "metadata": {},
   "source": [
    "\n",
    "\n",
    " To close the backdoor path, we need to control for the confounding variable by conditioning on it.\n",
    "\n",
    "\n",
    "$$\\text{uplift}(x_{i}) = E[Y_i(\\text{intervention}) − Y_i(\\text{no intervention})|X=x_{i}] $$\n",
    "\n"
   ]
  },
  {
   "cell_type": "markdown",
   "metadata": {},
   "source": [
    "\n",
    "###  Modeling Uplift\n",
    "\n",
    "One way to estimate the uplift is to use the two-model approach, which involves building two separate predictive models: one for the treatment group and one for the control group. Each model predicts the outcome of interest for a given unit based on its features. Then, we can combine the two models into one uplift model by subtracting the predictions of the treatment model from the predictions of the control model. This way, we can obtain the expected difference in the outcome between the treated and untreated versions for each unit. The advantage of this approach is that it is simple and intuitive, and it can use any existing supervised learning algorithm. \n"
   ]
  },
  {
   "cell_type": "code",
   "execution_count": 131,
   "metadata": {},
   "outputs": [
    {
     "data": {
      "text/html": [
       "<div style=\"text-align:center\"><img src=\"https://mermaid.ink/img/CmZsb3djaGFydCBURAogICAgbWVtWyJNZW1iZXJzIl0tLT5tZW1fdHJbIlRyZWF0bWVudCBHcm91cCJdCiAgICBtZW1bIk1lbWJlcnMiXS0tPm1lbV9jdFsiQ3RybCBHcm91cCJdCiAgICBtZW1fY3RbIkN0cmwgR3JvdXAiXS0tPnw3MCV8dHJhaW5bIlRyYWluIGRhdGEiXQogICAgbWVtX3RyWyJUcmVhdG1lbnQgR3JvdXAiXS0tPnw3MCV8dHJhaW5bIlRyYWluIGRhdGEiXQogICAgbWVtX2N0WyJDdHJsIEdyb3VwIl0tLT58MzAlfHRlc3RbIlRlc3QgZGF0YSJdCiAgICBtZW1fdHJbIlRyZWF0bWVudCBHcm91cCJdLS0+fDMwJXx0ZXN0WyJUZXN0IGRhdGEiXQogICAgdHJhaW4tLT51cGxpZnRbIlVwbGlmdCBNb2RlbGluZyJdCiAgICB1cGxpZnQtLT58cHJlZGljdHx0ZXN0CiAgICB0ZXN0LS0+c2VnWyJ1cGxpZnQgc2VnbWVudGF0aW9uIl0KCg==\" width=\"350\" height=\"500\"></div>"
      ],
      "text/plain": [
       "<IPython.core.display.HTML object>"
      ]
     },
     "metadata": {},
     "output_type": "display_data"
    }
   ],
   "source": [
    "\n",
    "\n",
    "mm(\"\"\"\n",
    "flowchart TD\n",
    "    mem[\"Members\"]-->mem_tr[\"Treatment Group\"]\n",
    "    mem[\"Members\"]-->mem_ct[\"Ctrl Group\"]\n",
    "    mem_ct[\"Ctrl Group\"]-->|70%|train[\"Train data\"]\n",
    "    mem_tr[\"Treatment Group\"]-->|70%|train[\"Train data\"]\n",
    "    mem_ct[\"Ctrl Group\"]-->|30%|test[\"Test data\"]\n",
    "    mem_tr[\"Treatment Group\"]-->|30%|test[\"Test data\"]\n",
    "    train-->uplift[\"Uplift Modeling\"]\n",
    "    uplift-->|predict|test\n",
    "    test-->seg[\"uplift segmentation\"]\n",
    "\n",
    "\"\"\",\n",
    "width=350\n",
    ",height=500)"
   ]
  },
  {
   "cell_type": "markdown",
   "metadata": {},
   "source": [
    "### uplift Segtments\n",
    "\n",
    "- The Persuadables: These are the members who only respond to the campaign because they were targeted. They are the ideal segment for the campaign, as they generate positive uplift. For example, a persuadable customer might imporove his adhernce to statins after receiving a transportation benfit.\n",
    "- The Sure Things: These are the members who would be adherent regardless of whether they were targeted or not. They do not generate any uplift, as they would have been adherent  anyway. \n",
    "- The Lost Causes: These are the members who would not change no matter what. They also do not generate any uplift, as they are not adherent.\n",
    "- The Sleeping Dogs: These are the members who generate negative uplift.\n",
    "\n"
   ]
  },
  {
   "attachments": {},
   "cell_type": "markdown",
   "metadata": {},
   "source": ["## Does transportaion benefit cause to adherence with statins\n",
    "## load data"
   ]
  },
  {
   "cell_type": "code",
   "execution_count": 31,
   "metadata": {},
   "outputs": [],
   "source": [
    "df = read_parquet(\"~/df_feats.parquet\")\n",
    "\n"
   ]
  },
  {
   "cell_type": "markdown",
   "metadata": {},
   "source": [
    "## Preprocessing"
   ]
  },
  {
   "cell_type": "code",
   "execution_count": null,
   "metadata": {},
   "outputs": [],
   "source": [
    "\n",
    "categorical_features = ['gender','race']\n",
    "df = MedorionDsTools.Preprocessing.categorical_encoding(df,categorical_features)\n",
    "\n",
    "numerical_features = MedorionDsTools.Preprocessing.numerical_features"
   ]
  },
  {
   "attachments": {},
   "cell_type": "markdown",
   "metadata": {},
   "source": [
    "<!-- ## Add labels -->\n",
    "\n"
   ]
  },
  {
   "attachments": {},
   "cell_type": "markdown",
   "metadata": {},
   "source": [
    "<!-- ## Choose the features to be used in the model\n",
    "\n",
    "    + In order to build a model there is a need to transfer categorial features to dummy features \n",
    "    + you can see the categorial features with the code\n",
    "\n",
    "```python\n",
    "\n",
    "MedorionDsTools.Preprocessing.print_features(df)\n",
    "\n",
    "```  -->"
   ]
  },
  {
   "attachments": {},
   "cell_type": "markdown",
   "metadata": {},
   "source": [
    "<!-- ## Preprocessing  the features before modeling -->"
   ]
  },
  {
   "attachments": {},
   "cell_type": "markdown",
   "metadata": {},
   "source": [
    "<!-- + print all the featuress in the dataframe in order  to select which features to include in the model \n",
    "+ insert your selection to  lists  -->"
   ]
  },
  {
   "attachments": {},
   "cell_type": "markdown",
   "metadata": {},
   "source": [
    "## Modeling the uplift score\n"
   ]
  },
  {
   "cell_type": "code",
   "execution_count": null,
   "metadata": {},
   "outputs": [],
   "source": [
    "intervention_object =  MedorionDsTools.ActionDrivenInsight.creat_action_uplift_df(df, intervention_col = 'has_transportation_benefit',label_for_modeling = \"adherence_statins\",numerical_features = numerical_features)\n",
    "\n",
    "uplift_df = MedorionDsTools.ActionDrivenInsight.creat_uplift(intervention_object)"
   ]
  },
  {
   "cell_type": "markdown",
   "metadata": {},
   "source": [
    "## Segmentation "
   ]
  },
  {
   "cell_type": "code",
   "execution_count": 153,
   "metadata": {},
   "outputs": [
    {
     "data": {
      "image/png": "[encoded data removed]",
      "text/plain": [
       "<Figure size 640x480 with 1 Axes>"
      ]
     },
     "metadata": {},
     "output_type": "display_data"
    },
    {
     "data": {
      "text/html": [
       "<div style=\"text-align:center\"><matplotlib.backends.backend_agg.FigureCanvasAgg object at 0x7fec15418790></div>"
      ],
      "text/plain": [
       "<IPython.core.display.HTML object>"
      ]
     },
     "execution_count": 153,
     "metadata": {},
     "output_type": "execute_result"
    },
    {
     "data": {
      "text/plain": [
       "<Figure size 640x480 with 0 Axes>"
      ]
     },
     "metadata": {},
     "output_type": "display_data"
    }
   ],
   "source": [
    "MedorionDsTools.Visual.distribution_plot(pd_series=uplift_df.uplift_segment,title='Uplift Segment Distribution',legend_title='Uplift Segment')"
   ]
  },
  {
   "cell_type": "markdown",
   "metadata": {},
   "source": [
    "## Analysis of the uplift segments"
   ]
  },
  {
   "cell_type": "code",
   "execution_count": 161,
   "metadata": {},
   "outputs": [],
   "source": [
    "uplift_df_insight = concat([uplift_df.reset_index(drop=True),intervention_object[\"X\"].reset_index(drop=True)],axis=1)\n"
   ]
  },
  {
   "cell_type": "code",
   "execution_count": 188,
   "metadata": {},
   "outputs": [
    {
     "data": {
      "image/svg+xml": [
       "<?xml version=\"1.0\" encoding=\"UTF-8\" standalone=\"no\"?>\n",
       "<!DOCTYPE svg PUBLIC \"-//W3C//DTD SVG 1.1//EN\"\n",
       " \"http://www.w3.org/Graphics/SVG/1.1/DTD/svg11.dtd\">\n",
       "<!-- Generated by graphviz version 2.40.1 (20161225.0304)\n",
       " -->\n",
       "<!-- Title: Tree Pages: 1 -->\n",
       "<svg width=\"2317pt\" height=\"433pt\"\n",
       " viewBox=\"0.00 0.00 2316.50 433.00\" xmlns=\"http://www.w3.org/2000/svg\" xmlns:xlink=\"http://www.w3.org/1999/xlink\">\n",
       "<g id=\"graph0\" class=\"graph\" transform=\"scale(1 1) rotate(0) translate(4 429)\">\n",
       "<title>Tree</title>\n",
       "<polygon fill=\"#ffffff\" stroke=\"transparent\" points=\"-4,4 -4,-429 2312.5,-429 2312.5,4 -4,4\"/>\n",
       "<!-- 0 -->\n",
       "<g id=\"node1\" class=\"node\">\n",
       "<title>0</title>\n",
       "<path fill=\"#e8f4fc\" stroke=\"#000000\" d=\"M1280.5,-425C1280.5,-425 1037.5,-425 1037.5,-425 1031.5,-425 1025.5,-419 1025.5,-413 1025.5,-413 1025.5,-354 1025.5,-354 1025.5,-348 1031.5,-342 1037.5,-342 1037.5,-342 1280.5,-342 1280.5,-342 1286.5,-342 1292.5,-348 1292.5,-354 1292.5,-354 1292.5,-413 1292.5,-413 1292.5,-419 1286.5,-425 1280.5,-425\"/>\n",
       "<text text-anchor=\"start\" x=\"1113.5\" y=\"-409.8\" font-family=\"Helvetica,sans-Serif\" font-size=\"14.00\" fill=\"#000000\">tenure ≤ 5.5</text>\n",
       "<text text-anchor=\"start\" x=\"1115\" y=\"-394.8\" font-family=\"Helvetica,sans-Serif\" font-size=\"14.00\" fill=\"#000000\">gini = 0.732</text>\n",
       "<text text-anchor=\"start\" x=\"1091\" y=\"-379.8\" font-family=\"Helvetica,sans-Serif\" font-size=\"14.00\" fill=\"#000000\">samples = 100.0%</text>\n",
       "<text text-anchor=\"start\" x=\"1033.5\" y=\"-364.8\" font-family=\"Helvetica,sans-Serif\" font-size=\"14.00\" fill=\"#000000\">value = [0.26, 0.157, 0.345, 0.239]</text>\n",
       "<text text-anchor=\"start\" x=\"1085\" y=\"-349.8\" font-family=\"Helvetica,sans-Serif\" font-size=\"14.00\" fill=\"#000000\">class = sleeping dog</text>\n",
       "</g>\n",
       "<!-- 1 -->\n",
       "<g id=\"node2\" class=\"node\">\n",
       "<title>1</title>\n",
       "<path fill=\"#d1e8f9\" stroke=\"#000000\" d=\"M995,-306C995,-306 743,-306 743,-306 737,-306 731,-300 731,-294 731,-294 731,-235 731,-235 731,-229 737,-223 743,-223 743,-223 995,-223 995,-223 1001,-223 1007,-229 1007,-235 1007,-235 1007,-294 1007,-294 1007,-300 1001,-306 995,-306\"/>\n",
       "<text text-anchor=\"start\" x=\"789\" y=\"-290.8\" font-family=\"Helvetica,sans-Serif\" font-size=\"14.00\" fill=\"#000000\">rasa_last_pdc ≤ 0.938</text>\n",
       "<text text-anchor=\"start\" x=\"825\" y=\"-275.8\" font-family=\"Helvetica,sans-Serif\" font-size=\"14.00\" fill=\"#000000\">gini = 0.682</text>\n",
       "<text text-anchor=\"start\" x=\"805.5\" y=\"-260.8\" font-family=\"Helvetica,sans-Serif\" font-size=\"14.00\" fill=\"#000000\">samples = 72.0%</text>\n",
       "<text text-anchor=\"start\" x=\"739\" y=\"-245.8\" font-family=\"Helvetica,sans-Serif\" font-size=\"14.00\" fill=\"#000000\">value = [0.251, 0.062, 0.431, 0.257]</text>\n",
       "<text text-anchor=\"start\" x=\"795\" y=\"-230.8\" font-family=\"Helvetica,sans-Serif\" font-size=\"14.00\" fill=\"#000000\">class = sleeping dog</text>\n",
       "</g>\n",
       "<!-- 0&#45;&gt;1 -->\n",
       "<g id=\"edge1\" class=\"edge\">\n",
       "<title>0&#45;&gt;1</title>\n",
       "<path fill=\"none\" stroke=\"#000000\" d=\"M1057.5721,-341.8796C1032.4057,-331.5527 1005.3088,-320.4336 979.7225,-309.9344\"/>\n",
       "<polygon fill=\"#000000\" stroke=\"#000000\" points=\"980.9508,-306.6553 970.3707,-306.0969 978.2933,-313.1312 980.9508,-306.6553\"/>\n",
       "<text text-anchor=\"middle\" x=\"980.0141\" y=\"-325.4622\" font-family=\"Helvetica,sans-Serif\" font-size=\"14.00\" fill=\"#000000\">True</text>\n",
       "</g>\n",
       "<!-- 8 -->\n",
       "<g id=\"node9\" class=\"node\">\n",
       "<title>8</title>\n",
       "<path fill=\"#e1fbde\" stroke=\"#000000\" d=\"M1579,-306C1579,-306 1327,-306 1327,-306 1321,-306 1315,-300 1315,-294 1315,-294 1315,-235 1315,-235 1315,-229 1321,-223 1327,-223 1327,-223 1579,-223 1579,-223 1585,-223 1591,-229 1591,-235 1591,-235 1591,-294 1591,-294 1591,-300 1585,-306 1579,-306\"/>\n",
       "<text text-anchor=\"start\" x=\"1347.5\" y=\"-290.8\" font-family=\"Helvetica,sans-Serif\" font-size=\"14.00\" fill=\"#000000\">days_between_rx_fill ≤ 265.5</text>\n",
       "<text text-anchor=\"start\" x=\"1409\" y=\"-275.8\" font-family=\"Helvetica,sans-Serif\" font-size=\"14.00\" fill=\"#000000\">gini = 0.707</text>\n",
       "<text text-anchor=\"start\" x=\"1389.5\" y=\"-260.8\" font-family=\"Helvetica,sans-Serif\" font-size=\"14.00\" fill=\"#000000\">samples = 28.0%</text>\n",
       "<text text-anchor=\"start\" x=\"1323\" y=\"-245.8\" font-family=\"Helvetica,sans-Serif\" font-size=\"14.00\" fill=\"#000000\">value = [0.283, 0.401, 0.123, 0.193]</text>\n",
       "<text text-anchor=\"start\" x=\"1384.5\" y=\"-230.8\" font-family=\"Helvetica,sans-Serif\" font-size=\"14.00\" fill=\"#000000\">class = persudable</text>\n",
       "</g>\n",
       "<!-- 0&#45;&gt;8 -->\n",
       "<g id=\"edge8\" class=\"edge\">\n",
       "<title>0&#45;&gt;8</title>\n",
       "<path fill=\"none\" stroke=\"#000000\" d=\"M1261.8269,-341.8796C1287.3404,-331.5527 1314.811,-320.4336 1340.7503,-309.9344\"/>\n",
       "<polygon fill=\"#000000\" stroke=\"#000000\" points=\"1342.2748,-313.0932 1350.2311,-306.0969 1339.6485,-306.6046 1342.2748,-313.0932\"/>\n",
       "<text text-anchor=\"middle\" x=\"1340.4774\" y=\"-325.4157\" font-family=\"Helvetica,sans-Serif\" font-size=\"14.00\" fill=\"#000000\">False</text>\n",
       "</g>\n",
       "<!-- 2 -->\n",
       "<g id=\"node3\" class=\"node\">\n",
       "<title>2</title>\n",
       "<path fill=\"#cbe5f8\" stroke=\"#000000\" d=\"M558,-187C558,-187 306,-187 306,-187 300,-187 294,-181 294,-175 294,-175 294,-116 294,-116 294,-110 300,-104 306,-104 306,-104 558,-104 558,-104 564,-104 570,-110 570,-116 570,-116 570,-175 570,-175 570,-181 564,-187 558,-187\"/>\n",
       "<text text-anchor=\"start\" x=\"331\" y=\"-171.8\" font-family=\"Helvetica,sans-Serif\" font-size=\"14.00\" fill=\"#000000\">days_between_rx_fill ≤ 98.5</text>\n",
       "<text text-anchor=\"start\" x=\"388\" y=\"-156.8\" font-family=\"Helvetica,sans-Serif\" font-size=\"14.00\" fill=\"#000000\">gini = 0.665</text>\n",
       "<text text-anchor=\"start\" x=\"368.5\" y=\"-141.8\" font-family=\"Helvetica,sans-Serif\" font-size=\"14.00\" fill=\"#000000\">samples = 65.5%</text>\n",
       "<text text-anchor=\"start\" x=\"302\" y=\"-126.8\" font-family=\"Helvetica,sans-Serif\" font-size=\"14.00\" fill=\"#000000\">value = [0.271, 0.058, 0.464, 0.207]</text>\n",
       "<text text-anchor=\"start\" x=\"358\" y=\"-111.8\" font-family=\"Helvetica,sans-Serif\" font-size=\"14.00\" fill=\"#000000\">class = sleeping dog</text>\n",
       "</g>\n",
       "<!-- 1&#45;&gt;2 -->\n",
       "<g id=\"edge2\" class=\"edge\">\n",
       "<title>1&#45;&gt;2</title>\n",
       "<path fill=\"none\" stroke=\"#000000\" d=\"M730.7305,-226.8477C682.6733,-213.7612 628.6032,-199.0373 579.8054,-185.7491\"/>\n",
       "<polygon fill=\"#000000\" stroke=\"#000000\" points=\"580.6878,-182.362 570.1195,-183.1115 578.8486,-189.116 580.6878,-182.362\"/>\n",
       "</g>\n",
       "<!-- 5 -->\n",
       "<g id=\"node6\" class=\"node\">\n",
       "<title>5</title>\n",
       "<path fill=\"#e26fec\" stroke=\"#000000\" d=\"M995,-187C995,-187 743,-187 743,-187 737,-187 731,-181 731,-175 731,-175 731,-116 731,-116 731,-110 737,-104 743,-104 743,-104 995,-104 995,-104 1001,-104 1007,-110 1007,-116 1007,-116 1007,-175 1007,-175 1007,-181 1001,-187 995,-187\"/>\n",
       "<text text-anchor=\"start\" x=\"772.5\" y=\"-171.8\" font-family=\"Helvetica,sans-Serif\" font-size=\"14.00\" fill=\"#000000\">days_between_rx_fill ≤ 0.5</text>\n",
       "<text text-anchor=\"start\" x=\"825\" y=\"-156.8\" font-family=\"Helvetica,sans-Serif\" font-size=\"14.00\" fill=\"#000000\">gini = 0.411</text>\n",
       "<text text-anchor=\"start\" x=\"810\" y=\"-141.8\" font-family=\"Helvetica,sans-Serif\" font-size=\"14.00\" fill=\"#000000\">samples = 6.5%</text>\n",
       "<text text-anchor=\"start\" x=\"739\" y=\"-126.8\" font-family=\"Helvetica,sans-Serif\" font-size=\"14.00\" fill=\"#000000\">value = [0.052, 0.097, 0.098, 0.753]</text>\n",
       "<text text-anchor=\"start\" x=\"804.5\" y=\"-111.8\" font-family=\"Helvetica,sans-Serif\" font-size=\"14.00\" fill=\"#000000\">class = sure thing</text>\n",
       "</g>\n",
       "<!-- 1&#45;&gt;5 -->\n",
       "<g id=\"edge5\" class=\"edge\">\n",
       "<title>1&#45;&gt;5</title>\n",
       "<path fill=\"none\" stroke=\"#000000\" d=\"M869,-222.8796C869,-214.6838 869,-205.9891 869,-197.5013\"/>\n",
       "<polygon fill=\"#000000\" stroke=\"#000000\" points=\"872.5001,-197.298 869,-187.2981 865.5001,-197.2981 872.5001,-197.298\"/>\n",
       "</g>\n",
       "<!-- 3 -->\n",
       "<g id=\"node4\" class=\"node\">\n",
       "<title>3</title>\n",
       "<path fill=\"#c2e1f7\" stroke=\"#000000\" d=\"M264,-68C264,-68 12,-68 12,-68 6,-68 0,-62 0,-56 0,-56 0,-12 0,-12 0,-6 6,0 12,0 12,0 264,0 264,0 270,0 276,-6 276,-12 276,-12 276,-56 276,-56 276,-62 270,-68 264,-68\"/>\n",
       "<text text-anchor=\"start\" x=\"94\" y=\"-52.8\" font-family=\"Helvetica,sans-Serif\" font-size=\"14.00\" fill=\"#000000\">gini = 0.638</text>\n",
       "<text text-anchor=\"start\" x=\"74.5\" y=\"-37.8\" font-family=\"Helvetica,sans-Serif\" font-size=\"14.00\" fill=\"#000000\">samples = 58.1%</text>\n",
       "<text text-anchor=\"start\" x=\"8\" y=\"-22.8\" font-family=\"Helvetica,sans-Serif\" font-size=\"14.00\" fill=\"#000000\">value = [0.281, 0.049, 0.502, 0.167]</text>\n",
       "<text text-anchor=\"start\" x=\"64\" y=\"-7.8\" font-family=\"Helvetica,sans-Serif\" font-size=\"14.00\" fill=\"#000000\">class = sleeping dog</text>\n",
       "</g>\n",
       "<!-- 2&#45;&gt;3 -->\n",
       "<g id=\"edge3\" class=\"edge\">\n",
       "<title>2&#45;&gt;3</title>\n",
       "<path fill=\"none\" stroke=\"#000000\" d=\"M322.5253,-103.9815C294.6316,-93.4028 264.8061,-82.0914 237.4443,-71.7144\"/>\n",
       "<polygon fill=\"#000000\" stroke=\"#000000\" points=\"238.4673,-68.3592 227.876,-68.0856 235.985,-74.9043 238.4673,-68.3592\"/>\n",
       "</g>\n",
       "<!-- 4 -->\n",
       "<g id=\"node5\" class=\"node\">\n",
       "<title>4</title>\n",
       "<path fill=\"#efaef4\" stroke=\"#000000\" d=\"M558,-68C558,-68 306,-68 306,-68 300,-68 294,-62 294,-56 294,-56 294,-12 294,-12 294,-6 300,0 306,0 306,0 558,0 558,0 564,0 570,-6 570,-12 570,-12 570,-56 570,-56 570,-62 564,-68 558,-68\"/>\n",
       "<text text-anchor=\"start\" x=\"388\" y=\"-52.8\" font-family=\"Helvetica,sans-Serif\" font-size=\"14.00\" fill=\"#000000\">gini = 0.651</text>\n",
       "<text text-anchor=\"start\" x=\"373\" y=\"-37.8\" font-family=\"Helvetica,sans-Serif\" font-size=\"14.00\" fill=\"#000000\">samples = 7.4%</text>\n",
       "<text text-anchor=\"start\" x=\"302\" y=\"-22.8\" font-family=\"Helvetica,sans-Serif\" font-size=\"14.00\" fill=\"#000000\">value = [0.188, 0.131, 0.161, 0.521]</text>\n",
       "<text text-anchor=\"start\" x=\"367.5\" y=\"-7.8\" font-family=\"Helvetica,sans-Serif\" font-size=\"14.00\" fill=\"#000000\">class = sure thing</text>\n",
       "</g>\n",
       "<!-- 2&#45;&gt;4 -->\n",
       "<g id=\"edge4\" class=\"edge\">\n",
       "<title>2&#45;&gt;4</title>\n",
       "<path fill=\"none\" stroke=\"#000000\" d=\"M432,-103.9815C432,-95.618 432,-86.7965 432,-78.3409\"/>\n",
       "<polygon fill=\"#000000\" stroke=\"#000000\" points=\"435.5001,-78.2636 432,-68.2637 428.5001,-78.2637 435.5001,-78.2636\"/>\n",
       "</g>\n",
       "<!-- 6 -->\n",
       "<g id=\"node7\" class=\"node\">\n",
       "<title>6</title>\n",
       "<path fill=\"#dd56e9\" stroke=\"#000000\" d=\"M852,-68C852,-68 600,-68 600,-68 594,-68 588,-62 588,-56 588,-56 588,-12 588,-12 588,-6 594,0 600,0 600,0 852,0 852,0 858,0 864,-6 864,-12 864,-12 864,-56 864,-56 864,-62 858,-68 852,-68\"/>\n",
       "<text text-anchor=\"start\" x=\"682\" y=\"-52.8\" font-family=\"Helvetica,sans-Serif\" font-size=\"14.00\" fill=\"#000000\">gini = 0.241</text>\n",
       "<text text-anchor=\"start\" x=\"667\" y=\"-37.8\" font-family=\"Helvetica,sans-Serif\" font-size=\"14.00\" fill=\"#000000\">samples = 4.6%</text>\n",
       "<text text-anchor=\"start\" x=\"596\" y=\"-22.8\" font-family=\"Helvetica,sans-Serif\" font-size=\"14.00\" fill=\"#000000\">value = [0.018, 0.079, 0.036, 0.867]</text>\n",
       "<text text-anchor=\"start\" x=\"661.5\" y=\"-7.8\" font-family=\"Helvetica,sans-Serif\" font-size=\"14.00\" fill=\"#000000\">class = sure thing</text>\n",
       "</g>\n",
       "<!-- 5&#45;&gt;6 -->\n",
       "<g id=\"edge6\" class=\"edge\">\n",
       "<title>5&#45;&gt;6</title>\n",
       "<path fill=\"none\" stroke=\"#000000\" d=\"M815.7521,-103.9815C803.3756,-94.3313 790.2172,-84.0714 777.8997,-74.4673\"/>\n",
       "<polygon fill=\"#000000\" stroke=\"#000000\" points=\"779.9818,-71.6525 769.9435,-68.2637 775.6775,-77.1728 779.9818,-71.6525\"/>\n",
       "</g>\n",
       "<!-- 7 -->\n",
       "<g id=\"node8\" class=\"node\">\n",
       "<title>7</title>\n",
       "<path fill=\"#f3c6f7\" stroke=\"#000000\" d=\"M1137.5,-68C1137.5,-68 894.5,-68 894.5,-68 888.5,-68 882.5,-62 882.5,-56 882.5,-56 882.5,-12 882.5,-12 882.5,-6 888.5,0 894.5,0 894.5,0 1137.5,0 1137.5,0 1143.5,0 1149.5,-6 1149.5,-12 1149.5,-12 1149.5,-56 1149.5,-56 1149.5,-62 1143.5,-68 1137.5,-68\"/>\n",
       "<text text-anchor=\"start\" x=\"972\" y=\"-52.8\" font-family=\"Helvetica,sans-Serif\" font-size=\"14.00\" fill=\"#000000\">gini = 0.677</text>\n",
       "<text text-anchor=\"start\" x=\"957\" y=\"-37.8\" font-family=\"Helvetica,sans-Serif\" font-size=\"14.00\" fill=\"#000000\">samples = 1.9%</text>\n",
       "<text text-anchor=\"start\" x=\"890.5\" y=\"-22.8\" font-family=\"Helvetica,sans-Serif\" font-size=\"14.00\" fill=\"#000000\">value = [0.135, 0.142, 0.254, 0.47]</text>\n",
       "<text text-anchor=\"start\" x=\"951.5\" y=\"-7.8\" font-family=\"Helvetica,sans-Serif\" font-size=\"14.00\" fill=\"#000000\">class = sure thing</text>\n",
       "</g>\n",
       "<!-- 5&#45;&gt;7 -->\n",
       "<g id=\"edge7\" class=\"edge\">\n",
       "<title>5&#45;&gt;7</title>\n",
       "<path fill=\"none\" stroke=\"#000000\" d=\"M923.7374,-103.9815C936.4601,-94.3313 949.9866,-84.0714 962.6485,-74.4673\"/>\n",
       "<polygon fill=\"#000000\" stroke=\"#000000\" points=\"964.975,-77.0956 970.8273,-68.2637 960.7447,-71.5184 964.975,-77.0956\"/>\n",
       "</g>\n",
       "<!-- 9 -->\n",
       "<g id=\"node10\" class=\"node\">\n",
       "<title>9</title>\n",
       "<path fill=\"#caf8c6\" stroke=\"#000000\" d=\"M1579,-187C1579,-187 1327,-187 1327,-187 1321,-187 1315,-181 1315,-175 1315,-175 1315,-116 1315,-116 1315,-110 1321,-104 1327,-104 1327,-104 1579,-104 1579,-104 1585,-104 1591,-110 1591,-116 1591,-116 1591,-175 1591,-175 1591,-181 1585,-187 1579,-187\"/>\n",
       "<text text-anchor=\"start\" x=\"1352\" y=\"-171.8\" font-family=\"Helvetica,sans-Serif\" font-size=\"14.00\" fill=\"#000000\">days_between_rx_fill ≤ 26.5</text>\n",
       "<text text-anchor=\"start\" x=\"1409\" y=\"-156.8\" font-family=\"Helvetica,sans-Serif\" font-size=\"14.00\" fill=\"#000000\">gini = 0.642</text>\n",
       "<text text-anchor=\"start\" x=\"1389.5\" y=\"-141.8\" font-family=\"Helvetica,sans-Serif\" font-size=\"14.00\" fill=\"#000000\">samples = 18.8%</text>\n",
       "<text text-anchor=\"start\" x=\"1323\" y=\"-126.8\" font-family=\"Helvetica,sans-Serif\" font-size=\"14.00\" fill=\"#000000\">value = [0.297, 0.499, 0.111, 0.093]</text>\n",
       "<text text-anchor=\"start\" x=\"1384.5\" y=\"-111.8\" font-family=\"Helvetica,sans-Serif\" font-size=\"14.00\" fill=\"#000000\">class = persudable</text>\n",
       "</g>\n",
       "<!-- 8&#45;&gt;9 -->\n",
       "<g id=\"edge9\" class=\"edge\">\n",
       "<title>8&#45;&gt;9</title>\n",
       "<path fill=\"none\" stroke=\"#000000\" d=\"M1453,-222.8796C1453,-214.6838 1453,-205.9891 1453,-197.5013\"/>\n",
       "<polygon fill=\"#000000\" stroke=\"#000000\" points=\"1456.5001,-197.298 1453,-187.2981 1449.5001,-197.2981 1456.5001,-197.298\"/>\n",
       "</g>\n",
       "<!-- 12 -->\n",
       "<g id=\"node13\" class=\"node\">\n",
       "<title>12</title>\n",
       "<path fill=\"#f7d9fa\" stroke=\"#000000\" d=\"M2007,-187C2007,-187 1773,-187 1773,-187 1767,-187 1761,-181 1761,-175 1761,-175 1761,-116 1761,-116 1761,-110 1767,-104 1773,-104 1773,-104 2007,-104 2007,-104 2013,-104 2019,-110 2019,-116 2019,-116 2019,-175 2019,-175 2019,-181 2013,-187 2007,-187\"/>\n",
       "<text text-anchor=\"start\" x=\"1802.5\" y=\"-171.8\" font-family=\"Helvetica,sans-Serif\" font-size=\"14.00\" fill=\"#000000\">min_days_supply ≤ 60.5</text>\n",
       "<text text-anchor=\"start\" x=\"1846\" y=\"-156.8\" font-family=\"Helvetica,sans-Serif\" font-size=\"14.00\" fill=\"#000000\">gini = 0.715</text>\n",
       "<text text-anchor=\"start\" x=\"1831\" y=\"-141.8\" font-family=\"Helvetica,sans-Serif\" font-size=\"14.00\" fill=\"#000000\">samples = 9.2%</text>\n",
       "<text text-anchor=\"start\" x=\"1769\" y=\"-126.8\" font-family=\"Helvetica,sans-Serif\" font-size=\"14.00\" fill=\"#000000\">value = [0.254, 0.2, 0.147, 0.399]</text>\n",
       "<text text-anchor=\"start\" x=\"1825.5\" y=\"-111.8\" font-family=\"Helvetica,sans-Serif\" font-size=\"14.00\" fill=\"#000000\">class = sure thing</text>\n",
       "</g>\n",
       "<!-- 8&#45;&gt;12 -->\n",
       "<g id=\"edge12\" class=\"edge\">\n",
       "<title>8&#45;&gt;12</title>\n",
       "<path fill=\"none\" stroke=\"#000000\" d=\"M1591.2695,-226.8477C1642.2458,-212.9663 1699.9876,-197.2425 1751.0259,-183.3442\"/>\n",
       "<polygon fill=\"#000000\" stroke=\"#000000\" points=\"1752.0778,-186.6853 1760.8068,-180.6807 1750.2386,-179.9312 1752.0778,-186.6853\"/>\n",
       "</g>\n",
       "<!-- 10 -->\n",
       "<g id=\"node11\" class=\"node\">\n",
       "<title>10</title>\n",
       "<path fill=\"#a3f29c\" stroke=\"#000000\" d=\"M1432,-68C1432,-68 1180,-68 1180,-68 1174,-68 1168,-62 1168,-56 1168,-56 1168,-12 1168,-12 1168,-6 1174,0 1180,0 1180,0 1432,0 1432,0 1438,0 1444,-6 1444,-12 1444,-12 1444,-56 1444,-56 1444,-62 1438,-68 1432,-68\"/>\n",
       "<text text-anchor=\"start\" x=\"1262\" y=\"-52.8\" font-family=\"Helvetica,sans-Serif\" font-size=\"14.00\" fill=\"#000000\">gini = 0.533</text>\n",
       "<text text-anchor=\"start\" x=\"1247\" y=\"-37.8\" font-family=\"Helvetica,sans-Serif\" font-size=\"14.00\" fill=\"#000000\">samples = 8.7%</text>\n",
       "<text text-anchor=\"start\" x=\"1176\" y=\"-22.8\" font-family=\"Helvetica,sans-Serif\" font-size=\"14.00\" fill=\"#000000\">value = [0.254, 0.626, 0.103, 0.017]</text>\n",
       "<text text-anchor=\"start\" x=\"1237.5\" y=\"-7.8\" font-family=\"Helvetica,sans-Serif\" font-size=\"14.00\" fill=\"#000000\">class = persudable</text>\n",
       "</g>\n",
       "<!-- 9&#45;&gt;10 -->\n",
       "<g id=\"edge10\" class=\"edge\">\n",
       "<title>9&#45;&gt;10</title>\n",
       "<path fill=\"none\" stroke=\"#000000\" d=\"M1398.2626,-103.9815C1385.5399,-94.3313 1372.0134,-84.0714 1359.3515,-74.4673\"/>\n",
       "<polygon fill=\"#000000\" stroke=\"#000000\" points=\"1361.2553,-71.5184 1351.1727,-68.2637 1357.025,-77.0956 1361.2553,-71.5184\"/>\n",
       "</g>\n",
       "<!-- 11 -->\n",
       "<g id=\"node12\" class=\"node\">\n",
       "<title>11</title>\n",
       "<path fill=\"#effdee\" stroke=\"#000000\" d=\"M1726,-68C1726,-68 1474,-68 1474,-68 1468,-68 1462,-62 1462,-56 1462,-56 1462,-12 1462,-12 1462,-6 1468,0 1474,0 1474,0 1726,0 1726,0 1732,0 1738,-6 1738,-12 1738,-12 1738,-56 1738,-56 1738,-62 1732,-68 1726,-68\"/>\n",
       "<text text-anchor=\"start\" x=\"1556\" y=\"-52.8\" font-family=\"Helvetica,sans-Serif\" font-size=\"14.00\" fill=\"#000000\">gini = 0.698</text>\n",
       "<text text-anchor=\"start\" x=\"1536.5\" y=\"-37.8\" font-family=\"Helvetica,sans-Serif\" font-size=\"14.00\" fill=\"#000000\">samples = 10.1%</text>\n",
       "<text text-anchor=\"start\" x=\"1470\" y=\"-22.8\" font-family=\"Helvetica,sans-Serif\" font-size=\"14.00\" fill=\"#000000\">value = [0.333, 0.391, 0.119, 0.158]</text>\n",
       "<text text-anchor=\"start\" x=\"1531.5\" y=\"-7.8\" font-family=\"Helvetica,sans-Serif\" font-size=\"14.00\" fill=\"#000000\">class = persudable</text>\n",
       "</g>\n",
       "<!-- 9&#45;&gt;11 -->\n",
       "<g id=\"edge11\" class=\"edge\">\n",
       "<title>9&#45;&gt;11</title>\n",
       "<path fill=\"none\" stroke=\"#000000\" d=\"M1507.7374,-103.9815C1520.4601,-94.3313 1533.9866,-84.0714 1546.6485,-74.4673\"/>\n",
       "<polygon fill=\"#000000\" stroke=\"#000000\" points=\"1548.975,-77.0956 1554.8273,-68.2637 1544.7447,-71.5184 1548.975,-77.0956\"/>\n",
       "</g>\n",
       "<!-- 13 -->\n",
       "<g id=\"node14\" class=\"node\">\n",
       "<title>13</title>\n",
       "<path fill=\"#fbede2\" stroke=\"#000000\" d=\"M2011.5,-68C2011.5,-68 1768.5,-68 1768.5,-68 1762.5,-68 1756.5,-62 1756.5,-56 1756.5,-56 1756.5,-12 1756.5,-12 1756.5,-6 1762.5,0 1768.5,0 1768.5,0 2011.5,0 2011.5,0 2017.5,0 2023.5,-6 2023.5,-12 2023.5,-12 2023.5,-56 2023.5,-56 2023.5,-62 2017.5,-68 2011.5,-68\"/>\n",
       "<text text-anchor=\"start\" x=\"1846\" y=\"-52.8\" font-family=\"Helvetica,sans-Serif\" font-size=\"14.00\" fill=\"#000000\">gini = 0.705</text>\n",
       "<text text-anchor=\"start\" x=\"1831\" y=\"-37.8\" font-family=\"Helvetica,sans-Serif\" font-size=\"14.00\" fill=\"#000000\">samples = 4.4%</text>\n",
       "<text text-anchor=\"start\" x=\"1764.5\" y=\"-22.8\" font-family=\"Helvetica,sans-Serif\" font-size=\"14.00\" fill=\"#000000\">value = [0.39, 0.285, 0.232, 0.094]</text>\n",
       "<text text-anchor=\"start\" x=\"1825.5\" y=\"-7.8\" font-family=\"Helvetica,sans-Serif\" font-size=\"14.00\" fill=\"#000000\">class = lost cause</text>\n",
       "</g>\n",
       "<!-- 12&#45;&gt;13 -->\n",
       "<g id=\"edge13\" class=\"edge\">\n",
       "<title>12&#45;&gt;13</title>\n",
       "<path fill=\"none\" stroke=\"#000000\" d=\"M1890,-103.9815C1890,-95.618 1890,-86.7965 1890,-78.3409\"/>\n",
       "<polygon fill=\"#000000\" stroke=\"#000000\" points=\"1893.5001,-78.2636 1890,-68.2637 1886.5001,-78.2637 1893.5001,-78.2636\"/>\n",
       "</g>\n",
       "<!-- 14 -->\n",
       "<g id=\"node15\" class=\"node\">\n",
       "<title>14</title>\n",
       "<path fill=\"#e683ef\" stroke=\"#000000\" d=\"M2296.5,-68C2296.5,-68 2053.5,-68 2053.5,-68 2047.5,-68 2041.5,-62 2041.5,-56 2041.5,-56 2041.5,-12 2041.5,-12 2041.5,-6 2047.5,0 2053.5,0 2053.5,0 2296.5,0 2296.5,0 2302.5,0 2308.5,-6 2308.5,-12 2308.5,-12 2308.5,-56 2308.5,-56 2308.5,-62 2302.5,-68 2296.5,-68\"/>\n",
       "<text text-anchor=\"start\" x=\"2131\" y=\"-52.8\" font-family=\"Helvetica,sans-Serif\" font-size=\"14.00\" fill=\"#000000\">gini = 0.505</text>\n",
       "<text text-anchor=\"start\" x=\"2116\" y=\"-37.8\" font-family=\"Helvetica,sans-Serif\" font-size=\"14.00\" fill=\"#000000\">samples = 4.8%</text>\n",
       "<text text-anchor=\"start\" x=\"2049.5\" y=\"-22.8\" font-family=\"Helvetica,sans-Serif\" font-size=\"14.00\" fill=\"#000000\">value = [0.13, 0.123, 0.071, 0.677]</text>\n",
       "<text text-anchor=\"start\" x=\"2110.5\" y=\"-7.8\" font-family=\"Helvetica,sans-Serif\" font-size=\"14.00\" fill=\"#000000\">class = sure thing</text>\n",
       "</g>\n",
       "<!-- 12&#45;&gt;14 -->\n",
       "<g id=\"edge14\" class=\"edge\">\n",
       "<title>12&#45;&gt;14</title>\n",
       "<path fill=\"none\" stroke=\"#000000\" d=\"M1996.1235,-103.9815C2023.0451,-93.449 2051.8232,-82.1902 2078.2523,-71.8504\"/>\n",
       "<polygon fill=\"#000000\" stroke=\"#000000\" points=\"2079.8378,-74.9885 2087.8753,-68.0856 2077.2874,-68.4696 2079.8378,-74.9885\"/>\n",
       "</g>\n",
       "</g>\n",
       "</svg>\n"
      ],
      "text/plain": [
       "<graphviz.sources.Source at 0x7fec0a4a13c0>"
      ]
     },
     "execution_count": 188,
     "metadata": {},
     "output_type": "execute_result"
    }
   ],
   "source": [
    "MedorionDsTools.Visual.plot_tree(df = uplift_df_insight,numerical_features=numerical_features)"
   ]
  }
 ],
 "metadata": {
  "kernelspec": {
   "display_name": "mypy310",
   "language": "python",
   "name": "python3"
  },
  "language_info": {
   "codemirror_mode": {
    "name": "ipython",
    "version": 3
   },
   "file_extension": ".py",
   "mimetype": "text/x-python",
   "name": "python",
   "nbconvert_exporter": "python",
   "pygments_lexer": "ipython3",
   "version": "3.10.6"
  },
  "orig_nbformat": 4
 },
 "nbformat": 4,
 "nbformat_minor": 2
}
